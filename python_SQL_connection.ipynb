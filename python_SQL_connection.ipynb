{
 "cells": [
  {
   "cell_type": "code",
   "execution_count": 2,
   "id": "8a657d58-4398-423b-b3fd-c62ef7072ff0",
   "metadata": {},
   "outputs": [
    {
     "name": "stderr",
     "output_type": "stream",
     "text": [
      "C:\\Users\\17nau\\AppData\\Local\\Temp\\ipykernel_11688\\2463414952.py:45: UserWarning: The provided table name 'Customers' is not found exactly as such in the database after writing the table, possibly due to case sensitivity issues. Consider using lower case table names.\n",
      "  df.to_sql(name=df_name, con=engine, if_exists='replace', index=False)\n"
     ]
    },
    {
     "name": "stdout",
     "output_type": "stream",
     "text": [
      "Customers pushed to MySQL\n",
      "geolocation pushed to MySQL\n"
     ]
    },
    {
     "name": "stderr",
     "output_type": "stream",
     "text": [
      "C:\\Users\\17nau\\AppData\\Local\\Temp\\ipykernel_11688\\2463414952.py:45: UserWarning: The provided table name 'Orders_items' is not found exactly as such in the database after writing the table, possibly due to case sensitivity issues. Consider using lower case table names.\n",
      "  df.to_sql(name=df_name, con=engine, if_exists='replace', index=False)\n"
     ]
    },
    {
     "name": "stdout",
     "output_type": "stream",
     "text": [
      "Orders_items pushed to MySQL\n"
     ]
    },
    {
     "name": "stderr",
     "output_type": "stream",
     "text": [
      "C:\\Users\\17nau\\AppData\\Local\\Temp\\ipykernel_11688\\2463414952.py:45: UserWarning: The provided table name 'Orders_Details' is not found exactly as such in the database after writing the table, possibly due to case sensitivity issues. Consider using lower case table names.\n",
      "  df.to_sql(name=df_name, con=engine, if_exists='replace', index=False)\n"
     ]
    },
    {
     "name": "stdout",
     "output_type": "stream",
     "text": [
      "Orders_Details pushed to MySQL\n"
     ]
    },
    {
     "name": "stderr",
     "output_type": "stream",
     "text": [
      "C:\\Users\\17nau\\AppData\\Local\\Temp\\ipykernel_11688\\2463414952.py:45: UserWarning: The provided table name 'Payments' is not found exactly as such in the database after writing the table, possibly due to case sensitivity issues. Consider using lower case table names.\n",
      "  df.to_sql(name=df_name, con=engine, if_exists='replace', index=False)\n",
      "C:\\Users\\17nau\\AppData\\Local\\Temp\\ipykernel_11688\\2463414952.py:45: UserWarning: The provided table name 'Product_category' is not found exactly as such in the database after writing the table, possibly due to case sensitivity issues. Consider using lower case table names.\n",
      "  df.to_sql(name=df_name, con=engine, if_exists='replace', index=False)\n"
     ]
    },
    {
     "name": "stdout",
     "output_type": "stream",
     "text": [
      "Payments pushed to MySQL\n",
      "Product_category pushed to MySQL\n"
     ]
    },
    {
     "name": "stderr",
     "output_type": "stream",
     "text": [
      "C:\\Users\\17nau\\AppData\\Local\\Temp\\ipykernel_11688\\2463414952.py:45: UserWarning: The provided table name 'Products' is not found exactly as such in the database after writing the table, possibly due to case sensitivity issues. Consider using lower case table names.\n",
      "  df.to_sql(name=df_name, con=engine, if_exists='replace', index=False)\n"
     ]
    },
    {
     "name": "stdout",
     "output_type": "stream",
     "text": [
      "Products pushed to MySQL\n"
     ]
    },
    {
     "name": "stderr",
     "output_type": "stream",
     "text": [
      "C:\\Users\\17nau\\AppData\\Local\\Temp\\ipykernel_11688\\2463414952.py:45: UserWarning: The provided table name 'Review' is not found exactly as such in the database after writing the table, possibly due to case sensitivity issues. Consider using lower case table names.\n",
      "  df.to_sql(name=df_name, con=engine, if_exists='replace', index=False)\n"
     ]
    },
    {
     "name": "stdout",
     "output_type": "stream",
     "text": [
      "Review pushed to MySQL\n",
      "Sellers pushed to MySQL\n"
     ]
    },
    {
     "name": "stderr",
     "output_type": "stream",
     "text": [
      "C:\\Users\\17nau\\AppData\\Local\\Temp\\ipykernel_11688\\2463414952.py:45: UserWarning: The provided table name 'Sellers' is not found exactly as such in the database after writing the table, possibly due to case sensitivity issues. Consider using lower case table names.\n",
      "  df.to_sql(name=df_name, con=engine, if_exists='replace', index=False)\n"
     ]
    }
   ],
   "source": [
    "# Step 1: Install necessary packages\n",
    "# !pip install pandas mysql-connector-python sqlalchemy\n",
    "\n",
    "# Step 2: Establish a connection to MySQL\n",
    "import mysql.connector\n",
    "from sqlalchemy import create_engine\n",
    "import pandas as pd\n",
    "\n",
    "# MySQL connection configuration\n",
    "config = {\n",
    "    'user': 'root',\n",
    "    'password': 'hpy.com',\n",
    "    'host': '127.0.0.1',  # e.g., '127.0.0.1' or 'localhost'\n",
    "    'database': 'masai',  # This can be any temporary name\n",
    "}\n",
    "\n",
    "# Connect to MySQL server\n",
    "conn = mysql.connector.connect(\n",
    "    user=config['user'],\n",
    "    password=config['password'],\n",
    "    host=config['host']\n",
    ")\n",
    "\n",
    "# Create a cursor object\n",
    "cursor = conn.cursor()\n",
    "\n",
    "# Step 3: Create the database\n",
    "database_name = 'ecomm'\n",
    "cursor.execute(f\"CREATE DATABASE IF NOT EXISTS {database_name}\")\n",
    "\n",
    "# Step 4: Connect to the newly created database using SQLAlchemy\n",
    "engine = create_engine(f\"mysql+mysqlconnector://{config['user']}:{config['password']}@{config['host']}/{database_name}\")\n",
    "\n",
    "# Load CSV files into DataFrames\n",
    "files = ['Customers.csv', 'geolocation.csv', 'Orders_items.csv', 'Orders_Details.csv', 'Payments.csv', 'Product_category.csv', 'Products.csv', 'Review.csv', 'Sellers.csv']\n",
    "\n",
    "dfs = {}\n",
    "\n",
    "for file in files:\n",
    "    df_name = file.split('.')[0]\n",
    "    dfs[df_name] = pd.read_csv(file)\n",
    "\n",
    "# Push DataFrames to MySQL\n",
    "for df_name, df in dfs.items():\n",
    "    df.to_sql(name=df_name, con=engine, if_exists='replace', index=False)\n",
    "    print(f\"{df_name} pushed to MySQL\")\n",
    "\n",
    "# Close the cursor and connection\n",
    "cursor.close()\n",
    "conn.close()"
   ]
  }
 ],
 "metadata": {
  "kernelspec": {
   "display_name": "Python 3 (ipykernel)",
   "language": "python",
   "name": "python3"
  },
  "language_info": {
   "codemirror_mode": {
    "name": "ipython",
    "version": 3
   },
   "file_extension": ".py",
   "mimetype": "text/x-python",
   "name": "python",
   "nbconvert_exporter": "python",
   "pygments_lexer": "ipython3",
   "version": "3.11.7"
  }
 },
 "nbformat": 4,
 "nbformat_minor": 5
}
